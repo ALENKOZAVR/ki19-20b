{
  "nbformat": 4,
  "nbformat_minor": 0,
  "metadata": {
    "colab": {
      "name": "Untitled1.ipynb",
      "provenance": []
    },
    "kernelspec": {
      "name": "python3",
      "display_name": "Python 3"
    }
  },
  "cells": [
    {
      "cell_type": "code",
      "metadata": {
        "id": "J8zidwXpTppg"
      },
      "source": [
        ""
      ],
      "execution_count": null,
      "outputs": []
    },
    {
      "cell_type": "markdown",
      "metadata": {
        "id": "TlZRrsVxTs9m"
      },
      "source": [
        "#Нуриманова Алина Равильевна, КИ19-20Б"
      ]
    },
    {
      "cell_type": "code",
      "metadata": {
        "colab": {
          "base_uri": "https://localhost:8080/"
        },
        "id": "bOmPkJSpT9Tr",
        "outputId": "1e9f76d9-dbfb-409d-9bf0-f3b50bc05df0"
      },
      "source": [
        "print(\"Привет мир!\")"
      ],
      "execution_count": null,
      "outputs": [
        {
          "output_type": "stream",
          "text": [
            "Привет мир!\n"
          ],
          "name": "stdout"
        }
      ]
    }
  ]
}